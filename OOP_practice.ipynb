{
 "cells": [
  {
   "cell_type": "code",
   "execution_count": 1,
   "metadata": {},
   "outputs": [],
   "source": [
    "class Cat:\n",
    "    def __init__(self, name):\n",
    "        self.name = name"
   ]
  },
  {
   "cell_type": "code",
   "execution_count": 2,
   "metadata": {},
   "outputs": [
    {
     "name": "stdout",
     "output_type": "stream",
     "text": [
      "Felix\n"
     ]
    }
   ],
   "source": [
    "first_cat = Cat('Felix')\n",
    "print(first_cat.name)"
   ]
  },
  {
   "cell_type": "code",
   "execution_count": 3,
   "metadata": {},
   "outputs": [
    {
     "name": "stdout",
     "output_type": "stream",
     "text": [
      "Garfield\n"
     ]
    }
   ],
   "source": [
    "second_cat = Cat('Garfield')\n",
    "print(second_cat.name)"
   ]
  },
  {
   "cell_type": "code",
   "execution_count": 4,
   "metadata": {},
   "outputs": [],
   "source": [
    "class Dog:\n",
    "    def __init__(self, name, color, sound):\n",
    "        self.name = name\n",
    "        self.color = color\n",
    "        self.sound = sound\n",
    "\n",
    "    def bark(self):\n",
    "        return self.sound + ' ' + self.sound"
   ]
  },
  {
   "cell_type": "code",
   "execution_count": 5,
   "metadata": {},
   "outputs": [
    {
     "name": "stdout",
     "output_type": "stream",
     "text": [
      "Fido\n",
      "brown\n"
     ]
    },
    {
     "data": {
      "text/plain": [
       "'woof! woof!'"
      ]
     },
     "execution_count": 5,
     "metadata": {},
     "output_type": "execute_result"
    }
   ],
   "source": [
    "first_dog = Dog('Fido', 'brown', 'woof!')\n",
    "print(    first_dog.name)\n",
    "print(first_dog.color)\n",
    "first_dog.bark()"
   ]
  },
  {
   "cell_type": "code",
   "execution_count": 6,
   "metadata": {},
   "outputs": [
    {
     "data": {
      "text/plain": [
       "'arf! arf!'"
      ]
     },
     "execution_count": 6,
     "metadata": {},
     "output_type": "execute_result"
    }
   ],
   "source": [
    "second_dog = Dog('Lady', 'blonde', 'arf!')\n",
    "second_dog.bark()"
   ]
  }
 ],
 "metadata": {
  "interpreter": {
   "hash": "aa0f1d95ea4ccc8a788f33ae37d9e4d5f3c6bb460b3e8588f34b8de529097cc8"
  },
  "kernelspec": {
   "display_name": "Python 3.8.8 64-bit ('base': conda)",
   "language": "python",
   "name": "python3"
  },
  "language_info": {
   "codemirror_mode": {
    "name": "ipython",
    "version": 3
   },
   "file_extension": ".py",
   "mimetype": "text/x-python",
   "name": "python",
   "nbconvert_exporter": "python",
   "pygments_lexer": "ipython3",
   "version": "3.8.8"
  },
  "orig_nbformat": 4
 },
 "nbformat": 4,
 "nbformat_minor": 2
}
